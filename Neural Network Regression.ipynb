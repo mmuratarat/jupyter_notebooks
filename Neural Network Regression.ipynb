{
 "cells": [
  {
   "cell_type": "code",
   "execution_count": 1,
   "metadata": {},
   "outputs": [
    {
     "name": "stderr",
     "output_type": "stream",
     "text": [
      "/Users/mustafamuratarat/anaconda3/lib/python3.6/site-packages/h5py/__init__.py:34: FutureWarning: Conversion of the second argument of issubdtype from `float` to `np.floating` is deprecated. In future, it will be treated as `np.float64 == np.dtype(float).type`.\n",
      "  from ._conv import register_converters as _register_converters\n"
     ]
    }
   ],
   "source": [
    "import numpy as np\n",
    "import pandas as pd\n",
    "import tensorflow as tf\n",
    "\n",
    "import matplotlib.pyplot as plt\n",
    "%matplotlib inline"
   ]
  },
  {
   "cell_type": "code",
   "execution_count": 2,
   "metadata": {
    "collapsed": true
   },
   "outputs": [],
   "source": [
    "x_data = np.linspace(0.0,10.0,1000000)"
   ]
  },
  {
   "cell_type": "code",
   "execution_count": 3,
   "metadata": {},
   "outputs": [],
   "source": [
    "noise = np.random.rand(len(x_data))"
   ]
  },
  {
   "cell_type": "code",
   "execution_count": 4,
   "metadata": {},
   "outputs": [
    {
     "data": {
      "text/plain": [
       "array([0.3810751 , 0.0554012 , 0.68304982, ..., 0.90341917, 0.21085005,\n",
       "       0.83434516])"
      ]
     },
     "execution_count": 4,
     "metadata": {},
     "output_type": "execute_result"
    }
   ],
   "source": [
    "noise"
   ]
  },
  {
   "cell_type": "code",
   "execution_count": 5,
   "metadata": {},
   "outputs": [
    {
     "data": {
      "text/plain": [
       "(1000000,)"
      ]
     },
     "execution_count": 5,
     "metadata": {},
     "output_type": "execute_result"
    }
   ],
   "source": [
    "noise.shape"
   ]
  },
  {
   "cell_type": "code",
   "execution_count": 6,
   "metadata": {},
   "outputs": [
    {
     "data": {
      "text/plain": [
       "array([0.000000e+00, 1.000001e-05, 2.000002e-05, ..., 9.999980e+00,\n",
       "       9.999990e+00, 1.000000e+01])"
      ]
     },
     "execution_count": 6,
     "metadata": {},
     "output_type": "execute_result"
    }
   ],
   "source": [
    "x_data"
   ]
  },
  {
   "cell_type": "code",
   "execution_count": 7,
   "metadata": {},
   "outputs": [
    {
     "data": {
      "text/plain": [
       "(1000000,)"
      ]
     },
     "execution_count": 7,
     "metadata": {},
     "output_type": "execute_result"
    }
   ],
   "source": [
    "x_data.shape"
   ]
  },
  {
   "cell_type": "markdown",
   "metadata": {},
   "source": [
    "y = mx + b\n",
    "\n",
    "b=5"
   ]
  },
  {
   "cell_type": "code",
   "execution_count": 8,
   "metadata": {
    "collapsed": true
   },
   "outputs": [],
   "source": [
    "y_true = (0.5 * x_data) + 5 + noise"
   ]
  },
  {
   "cell_type": "code",
   "execution_count": 9,
   "metadata": {
    "collapsed": true
   },
   "outputs": [],
   "source": [
    "x_df = pd.DataFrame(data = x_data, columns = ['X Data'])\n",
    "y_df = pd.DataFrame(data = y_true, columns = ['Y'])"
   ]
  },
  {
   "cell_type": "code",
   "execution_count": 10,
   "metadata": {},
   "outputs": [
    {
     "data": {
      "text/html": [
       "<div>\n",
       "<style>\n",
       "    .dataframe thead tr:only-child th {\n",
       "        text-align: right;\n",
       "    }\n",
       "\n",
       "    .dataframe thead th {\n",
       "        text-align: left;\n",
       "    }\n",
       "\n",
       "    .dataframe tbody tr th {\n",
       "        vertical-align: top;\n",
       "    }\n",
       "</style>\n",
       "<table border=\"1\" class=\"dataframe\">\n",
       "  <thead>\n",
       "    <tr style=\"text-align: right;\">\n",
       "      <th></th>\n",
       "      <th>X Data</th>\n",
       "    </tr>\n",
       "  </thead>\n",
       "  <tbody>\n",
       "    <tr>\n",
       "      <th>0</th>\n",
       "      <td>0.00000</td>\n",
       "    </tr>\n",
       "    <tr>\n",
       "      <th>1</th>\n",
       "      <td>0.00001</td>\n",
       "    </tr>\n",
       "    <tr>\n",
       "      <th>2</th>\n",
       "      <td>0.00002</td>\n",
       "    </tr>\n",
       "    <tr>\n",
       "      <th>3</th>\n",
       "      <td>0.00003</td>\n",
       "    </tr>\n",
       "    <tr>\n",
       "      <th>4</th>\n",
       "      <td>0.00004</td>\n",
       "    </tr>\n",
       "  </tbody>\n",
       "</table>\n",
       "</div>"
      ],
      "text/plain": [
       "    X Data\n",
       "0  0.00000\n",
       "1  0.00001\n",
       "2  0.00002\n",
       "3  0.00003\n",
       "4  0.00004"
      ]
     },
     "execution_count": 10,
     "metadata": {},
     "output_type": "execute_result"
    }
   ],
   "source": [
    "x_df.head()"
   ]
  },
  {
   "cell_type": "code",
   "execution_count": 11,
   "metadata": {},
   "outputs": [
    {
     "data": {
      "text/html": [
       "<div>\n",
       "<style>\n",
       "    .dataframe thead tr:only-child th {\n",
       "        text-align: right;\n",
       "    }\n",
       "\n",
       "    .dataframe thead th {\n",
       "        text-align: left;\n",
       "    }\n",
       "\n",
       "    .dataframe tbody tr th {\n",
       "        vertical-align: top;\n",
       "    }\n",
       "</style>\n",
       "<table border=\"1\" class=\"dataframe\">\n",
       "  <thead>\n",
       "    <tr style=\"text-align: right;\">\n",
       "      <th></th>\n",
       "      <th>Y</th>\n",
       "    </tr>\n",
       "  </thead>\n",
       "  <tbody>\n",
       "    <tr>\n",
       "      <th>0</th>\n",
       "      <td>5.381075</td>\n",
       "    </tr>\n",
       "    <tr>\n",
       "      <th>1</th>\n",
       "      <td>5.055406</td>\n",
       "    </tr>\n",
       "    <tr>\n",
       "      <th>2</th>\n",
       "      <td>5.683060</td>\n",
       "    </tr>\n",
       "    <tr>\n",
       "      <th>3</th>\n",
       "      <td>5.839963</td>\n",
       "    </tr>\n",
       "    <tr>\n",
       "      <th>4</th>\n",
       "      <td>5.647664</td>\n",
       "    </tr>\n",
       "  </tbody>\n",
       "</table>\n",
       "</div>"
      ],
      "text/plain": [
       "          Y\n",
       "0  5.381075\n",
       "1  5.055406\n",
       "2  5.683060\n",
       "3  5.839963\n",
       "4  5.647664"
      ]
     },
     "execution_count": 11,
     "metadata": {},
     "output_type": "execute_result"
    }
   ],
   "source": [
    "y_df.head()"
   ]
  },
  {
   "cell_type": "code",
   "execution_count": 12,
   "metadata": {
    "collapsed": true
   },
   "outputs": [],
   "source": [
    "my_data = pd.concat([x_df, y_df], axis = 1)"
   ]
  },
  {
   "cell_type": "code",
   "execution_count": 13,
   "metadata": {},
   "outputs": [
    {
     "data": {
      "text/html": [
       "<div>\n",
       "<style>\n",
       "    .dataframe thead tr:only-child th {\n",
       "        text-align: right;\n",
       "    }\n",
       "\n",
       "    .dataframe thead th {\n",
       "        text-align: left;\n",
       "    }\n",
       "\n",
       "    .dataframe tbody tr th {\n",
       "        vertical-align: top;\n",
       "    }\n",
       "</style>\n",
       "<table border=\"1\" class=\"dataframe\">\n",
       "  <thead>\n",
       "    <tr style=\"text-align: right;\">\n",
       "      <th></th>\n",
       "      <th>X Data</th>\n",
       "      <th>Y</th>\n",
       "    </tr>\n",
       "  </thead>\n",
       "  <tbody>\n",
       "    <tr>\n",
       "      <th>0</th>\n",
       "      <td>0.00000</td>\n",
       "      <td>5.381075</td>\n",
       "    </tr>\n",
       "    <tr>\n",
       "      <th>1</th>\n",
       "      <td>0.00001</td>\n",
       "      <td>5.055406</td>\n",
       "    </tr>\n",
       "    <tr>\n",
       "      <th>2</th>\n",
       "      <td>0.00002</td>\n",
       "      <td>5.683060</td>\n",
       "    </tr>\n",
       "    <tr>\n",
       "      <th>3</th>\n",
       "      <td>0.00003</td>\n",
       "      <td>5.839963</td>\n",
       "    </tr>\n",
       "    <tr>\n",
       "      <th>4</th>\n",
       "      <td>0.00004</td>\n",
       "      <td>5.647664</td>\n",
       "    </tr>\n",
       "  </tbody>\n",
       "</table>\n",
       "</div>"
      ],
      "text/plain": [
       "    X Data         Y\n",
       "0  0.00000  5.381075\n",
       "1  0.00001  5.055406\n",
       "2  0.00002  5.683060\n",
       "3  0.00003  5.839963\n",
       "4  0.00004  5.647664"
      ]
     },
     "execution_count": 13,
     "metadata": {},
     "output_type": "execute_result"
    }
   ],
   "source": [
    "my_data.head()"
   ]
  },
  {
   "cell_type": "code",
   "execution_count": 14,
   "metadata": {},
   "outputs": [
    {
     "data": {
      "text/html": [
       "<div>\n",
       "<style>\n",
       "    .dataframe thead tr:only-child th {\n",
       "        text-align: right;\n",
       "    }\n",
       "\n",
       "    .dataframe thead th {\n",
       "        text-align: left;\n",
       "    }\n",
       "\n",
       "    .dataframe tbody tr th {\n",
       "        vertical-align: top;\n",
       "    }\n",
       "</style>\n",
       "<table border=\"1\" class=\"dataframe\">\n",
       "  <thead>\n",
       "    <tr style=\"text-align: right;\">\n",
       "      <th></th>\n",
       "      <th>X Data</th>\n",
       "      <th>Y</th>\n",
       "    </tr>\n",
       "  </thead>\n",
       "  <tbody>\n",
       "    <tr>\n",
       "      <th>189976</th>\n",
       "      <td>1.899762</td>\n",
       "      <td>6.319512</td>\n",
       "    </tr>\n",
       "    <tr>\n",
       "      <th>742197</th>\n",
       "      <td>7.421977</td>\n",
       "      <td>9.443722</td>\n",
       "    </tr>\n",
       "    <tr>\n",
       "      <th>852654</th>\n",
       "      <td>8.526549</td>\n",
       "      <td>9.407251</td>\n",
       "    </tr>\n",
       "    <tr>\n",
       "      <th>973492</th>\n",
       "      <td>9.734930</td>\n",
       "      <td>10.221308</td>\n",
       "    </tr>\n",
       "    <tr>\n",
       "      <th>864931</th>\n",
       "      <td>8.649319</td>\n",
       "      <td>9.874788</td>\n",
       "    </tr>\n",
       "    <tr>\n",
       "      <th>592512</th>\n",
       "      <td>5.925126</td>\n",
       "      <td>8.088142</td>\n",
       "    </tr>\n",
       "    <tr>\n",
       "      <th>524929</th>\n",
       "      <td>5.249295</td>\n",
       "      <td>8.207710</td>\n",
       "    </tr>\n",
       "    <tr>\n",
       "      <th>649984</th>\n",
       "      <td>6.499846</td>\n",
       "      <td>9.193334</td>\n",
       "    </tr>\n",
       "    <tr>\n",
       "      <th>560561</th>\n",
       "      <td>5.605616</td>\n",
       "      <td>8.393651</td>\n",
       "    </tr>\n",
       "    <tr>\n",
       "      <th>950083</th>\n",
       "      <td>9.500840</td>\n",
       "      <td>10.465632</td>\n",
       "    </tr>\n",
       "    <tr>\n",
       "      <th>739237</th>\n",
       "      <td>7.392377</td>\n",
       "      <td>9.162997</td>\n",
       "    </tr>\n",
       "    <tr>\n",
       "      <th>625008</th>\n",
       "      <td>6.250086</td>\n",
       "      <td>8.373265</td>\n",
       "    </tr>\n",
       "    <tr>\n",
       "      <th>413958</th>\n",
       "      <td>4.139584</td>\n",
       "      <td>8.032475</td>\n",
       "    </tr>\n",
       "    <tr>\n",
       "      <th>709096</th>\n",
       "      <td>7.090967</td>\n",
       "      <td>9.436786</td>\n",
       "    </tr>\n",
       "    <tr>\n",
       "      <th>64400</th>\n",
       "      <td>0.644001</td>\n",
       "      <td>5.780323</td>\n",
       "    </tr>\n",
       "    <tr>\n",
       "      <th>913093</th>\n",
       "      <td>9.130939</td>\n",
       "      <td>9.619115</td>\n",
       "    </tr>\n",
       "    <tr>\n",
       "      <th>852838</th>\n",
       "      <td>8.528389</td>\n",
       "      <td>9.338500</td>\n",
       "    </tr>\n",
       "    <tr>\n",
       "      <th>42023</th>\n",
       "      <td>0.420230</td>\n",
       "      <td>5.517634</td>\n",
       "    </tr>\n",
       "    <tr>\n",
       "      <th>373573</th>\n",
       "      <td>3.735734</td>\n",
       "      <td>7.014051</td>\n",
       "    </tr>\n",
       "    <tr>\n",
       "      <th>865051</th>\n",
       "      <td>8.650519</td>\n",
       "      <td>10.230031</td>\n",
       "    </tr>\n",
       "    <tr>\n",
       "      <th>886712</th>\n",
       "      <td>8.867129</td>\n",
       "      <td>9.552848</td>\n",
       "    </tr>\n",
       "    <tr>\n",
       "      <th>340986</th>\n",
       "      <td>3.409863</td>\n",
       "      <td>7.665608</td>\n",
       "    </tr>\n",
       "    <tr>\n",
       "      <th>561526</th>\n",
       "      <td>5.615266</td>\n",
       "      <td>7.952440</td>\n",
       "    </tr>\n",
       "    <tr>\n",
       "      <th>985226</th>\n",
       "      <td>9.852270</td>\n",
       "      <td>10.554499</td>\n",
       "    </tr>\n",
       "    <tr>\n",
       "      <th>509986</th>\n",
       "      <td>5.099865</td>\n",
       "      <td>7.951232</td>\n",
       "    </tr>\n",
       "    <tr>\n",
       "      <th>769730</th>\n",
       "      <td>7.697308</td>\n",
       "      <td>9.511237</td>\n",
       "    </tr>\n",
       "    <tr>\n",
       "      <th>895944</th>\n",
       "      <td>8.959449</td>\n",
       "      <td>10.447261</td>\n",
       "    </tr>\n",
       "    <tr>\n",
       "      <th>506340</th>\n",
       "      <td>5.063405</td>\n",
       "      <td>7.811278</td>\n",
       "    </tr>\n",
       "    <tr>\n",
       "      <th>765737</th>\n",
       "      <td>7.657378</td>\n",
       "      <td>9.793773</td>\n",
       "    </tr>\n",
       "    <tr>\n",
       "      <th>425199</th>\n",
       "      <td>4.251994</td>\n",
       "      <td>8.098472</td>\n",
       "    </tr>\n",
       "    <tr>\n",
       "      <th>...</th>\n",
       "      <td>...</td>\n",
       "      <td>...</td>\n",
       "    </tr>\n",
       "    <tr>\n",
       "      <th>240180</th>\n",
       "      <td>2.401802</td>\n",
       "      <td>6.801773</td>\n",
       "    </tr>\n",
       "    <tr>\n",
       "      <th>688372</th>\n",
       "      <td>6.883727</td>\n",
       "      <td>8.472529</td>\n",
       "    </tr>\n",
       "    <tr>\n",
       "      <th>354014</th>\n",
       "      <td>3.540144</td>\n",
       "      <td>7.586853</td>\n",
       "    </tr>\n",
       "    <tr>\n",
       "      <th>72339</th>\n",
       "      <td>0.723391</td>\n",
       "      <td>6.199045</td>\n",
       "    </tr>\n",
       "    <tr>\n",
       "      <th>27879</th>\n",
       "      <td>0.278790</td>\n",
       "      <td>5.607328</td>\n",
       "    </tr>\n",
       "    <tr>\n",
       "      <th>32610</th>\n",
       "      <td>0.326100</td>\n",
       "      <td>5.838384</td>\n",
       "    </tr>\n",
       "    <tr>\n",
       "      <th>771447</th>\n",
       "      <td>7.714478</td>\n",
       "      <td>8.979019</td>\n",
       "    </tr>\n",
       "    <tr>\n",
       "      <th>826274</th>\n",
       "      <td>8.262748</td>\n",
       "      <td>9.986543</td>\n",
       "    </tr>\n",
       "    <tr>\n",
       "      <th>957066</th>\n",
       "      <td>9.570670</td>\n",
       "      <td>10.014267</td>\n",
       "    </tr>\n",
       "    <tr>\n",
       "      <th>144900</th>\n",
       "      <td>1.449001</td>\n",
       "      <td>6.279183</td>\n",
       "    </tr>\n",
       "    <tr>\n",
       "      <th>570055</th>\n",
       "      <td>5.700556</td>\n",
       "      <td>8.580573</td>\n",
       "    </tr>\n",
       "    <tr>\n",
       "      <th>923884</th>\n",
       "      <td>9.238849</td>\n",
       "      <td>9.916496</td>\n",
       "    </tr>\n",
       "    <tr>\n",
       "      <th>354637</th>\n",
       "      <td>3.546374</td>\n",
       "      <td>7.746939</td>\n",
       "    </tr>\n",
       "    <tr>\n",
       "      <th>350454</th>\n",
       "      <td>3.504544</td>\n",
       "      <td>7.466954</td>\n",
       "    </tr>\n",
       "    <tr>\n",
       "      <th>166872</th>\n",
       "      <td>1.668722</td>\n",
       "      <td>6.188246</td>\n",
       "    </tr>\n",
       "    <tr>\n",
       "      <th>822147</th>\n",
       "      <td>8.221478</td>\n",
       "      <td>9.203263</td>\n",
       "    </tr>\n",
       "    <tr>\n",
       "      <th>585228</th>\n",
       "      <td>5.852286</td>\n",
       "      <td>8.539174</td>\n",
       "    </tr>\n",
       "    <tr>\n",
       "      <th>808607</th>\n",
       "      <td>8.086078</td>\n",
       "      <td>9.982190</td>\n",
       "    </tr>\n",
       "    <tr>\n",
       "      <th>905150</th>\n",
       "      <td>9.051509</td>\n",
       "      <td>10.234086</td>\n",
       "    </tr>\n",
       "    <tr>\n",
       "      <th>479753</th>\n",
       "      <td>4.797535</td>\n",
       "      <td>8.309949</td>\n",
       "    </tr>\n",
       "    <tr>\n",
       "      <th>989907</th>\n",
       "      <td>9.899080</td>\n",
       "      <td>10.029088</td>\n",
       "    </tr>\n",
       "    <tr>\n",
       "      <th>881724</th>\n",
       "      <td>8.817249</td>\n",
       "      <td>9.769309</td>\n",
       "    </tr>\n",
       "    <tr>\n",
       "      <th>414741</th>\n",
       "      <td>4.147414</td>\n",
       "      <td>7.966559</td>\n",
       "    </tr>\n",
       "    <tr>\n",
       "      <th>241470</th>\n",
       "      <td>2.414702</td>\n",
       "      <td>6.636424</td>\n",
       "    </tr>\n",
       "    <tr>\n",
       "      <th>35947</th>\n",
       "      <td>0.359470</td>\n",
       "      <td>5.916974</td>\n",
       "    </tr>\n",
       "    <tr>\n",
       "      <th>104359</th>\n",
       "      <td>1.043591</td>\n",
       "      <td>6.392973</td>\n",
       "    </tr>\n",
       "    <tr>\n",
       "      <th>15017</th>\n",
       "      <td>0.150170</td>\n",
       "      <td>5.143215</td>\n",
       "    </tr>\n",
       "    <tr>\n",
       "      <th>76646</th>\n",
       "      <td>0.766461</td>\n",
       "      <td>5.944521</td>\n",
       "    </tr>\n",
       "    <tr>\n",
       "      <th>843709</th>\n",
       "      <td>8.437098</td>\n",
       "      <td>9.546399</td>\n",
       "    </tr>\n",
       "    <tr>\n",
       "      <th>34601</th>\n",
       "      <td>0.346010</td>\n",
       "      <td>5.253816</td>\n",
       "    </tr>\n",
       "  </tbody>\n",
       "</table>\n",
       "<p>250 rows × 2 columns</p>\n",
       "</div>"
      ],
      "text/plain": [
       "          X Data          Y\n",
       "189976  1.899762   6.319512\n",
       "742197  7.421977   9.443722\n",
       "852654  8.526549   9.407251\n",
       "973492  9.734930  10.221308\n",
       "864931  8.649319   9.874788\n",
       "592512  5.925126   8.088142\n",
       "524929  5.249295   8.207710\n",
       "649984  6.499846   9.193334\n",
       "560561  5.605616   8.393651\n",
       "950083  9.500840  10.465632\n",
       "739237  7.392377   9.162997\n",
       "625008  6.250086   8.373265\n",
       "413958  4.139584   8.032475\n",
       "709096  7.090967   9.436786\n",
       "64400   0.644001   5.780323\n",
       "913093  9.130939   9.619115\n",
       "852838  8.528389   9.338500\n",
       "42023   0.420230   5.517634\n",
       "373573  3.735734   7.014051\n",
       "865051  8.650519  10.230031\n",
       "886712  8.867129   9.552848\n",
       "340986  3.409863   7.665608\n",
       "561526  5.615266   7.952440\n",
       "985226  9.852270  10.554499\n",
       "509986  5.099865   7.951232\n",
       "769730  7.697308   9.511237\n",
       "895944  8.959449  10.447261\n",
       "506340  5.063405   7.811278\n",
       "765737  7.657378   9.793773\n",
       "425199  4.251994   8.098472\n",
       "...          ...        ...\n",
       "240180  2.401802   6.801773\n",
       "688372  6.883727   8.472529\n",
       "354014  3.540144   7.586853\n",
       "72339   0.723391   6.199045\n",
       "27879   0.278790   5.607328\n",
       "32610   0.326100   5.838384\n",
       "771447  7.714478   8.979019\n",
       "826274  8.262748   9.986543\n",
       "957066  9.570670  10.014267\n",
       "144900  1.449001   6.279183\n",
       "570055  5.700556   8.580573\n",
       "923884  9.238849   9.916496\n",
       "354637  3.546374   7.746939\n",
       "350454  3.504544   7.466954\n",
       "166872  1.668722   6.188246\n",
       "822147  8.221478   9.203263\n",
       "585228  5.852286   8.539174\n",
       "808607  8.086078   9.982190\n",
       "905150  9.051509  10.234086\n",
       "479753  4.797535   8.309949\n",
       "989907  9.899080  10.029088\n",
       "881724  8.817249   9.769309\n",
       "414741  4.147414   7.966559\n",
       "241470  2.414702   6.636424\n",
       "35947   0.359470   5.916974\n",
       "104359  1.043591   6.392973\n",
       "15017   0.150170   5.143215\n",
       "76646   0.766461   5.944521\n",
       "843709  8.437098   9.546399\n",
       "34601   0.346010   5.253816\n",
       "\n",
       "[250 rows x 2 columns]"
      ]
     },
     "execution_count": 14,
     "metadata": {},
     "output_type": "execute_result"
    }
   ],
   "source": [
    "#sampling from data frame, n = 250\n",
    "my_data.sample(n=250)"
   ]
  },
  {
   "cell_type": "code",
   "execution_count": 15,
   "metadata": {},
   "outputs": [
    {
     "data": {
      "text/plain": [
       "<matplotlib.axes._subplots.AxesSubplot at 0x181d24a710>"
      ]
     },
     "execution_count": 15,
     "metadata": {},
     "output_type": "execute_result"
    },
    {
     "data": {
      "image/png": "[encoded data removed]",
      "text/plain": [
       "<matplotlib.figure.Figure at 0x181d274710>"
      ]
     },
     "metadata": {},
     "output_type": "display_data"
    }
   ],
   "source": [
    "my_data.sample(n=250).plot(kind = 'scatter', x= 'X Data', y = 'Y')"
   ]
  },
  {
   "cell_type": "code",
   "execution_count": 16,
   "metadata": {
    "collapsed": true
   },
   "outputs": [],
   "source": [
    "batch_size = 8"
   ]
  },
  {
   "cell_type": "code",
   "execution_count": 17,
   "metadata": {},
   "outputs": [
    {
     "data": {
      "text/plain": [
       "array([0.2529174 , 0.46491521])"
      ]
     },
     "execution_count": 17,
     "metadata": {},
     "output_type": "execute_result"
    }
   ],
   "source": [
    "np.random.rand(2)"
   ]
  },
  {
   "cell_type": "code",
   "execution_count": 18,
   "metadata": {
    "collapsed": true
   },
   "outputs": [],
   "source": [
    "m = tf.Variable(0.2529174)\n",
    "b = tf.Variable(0.46491521)"
   ]
  },
  {
   "cell_type": "code",
   "execution_count": 19,
   "metadata": {
    "collapsed": true
   },
   "outputs": [],
   "source": [
    "xph = tf.placeholder(tf.float32,shape=[batch_size])"
   ]
  },
  {
   "cell_type": "code",
   "execution_count": 20,
   "metadata": {
    "collapsed": true
   },
   "outputs": [],
   "source": [
    "yph = tf.placeholder(tf.float32,shape=[batch_size])"
   ]
  },
  {
   "cell_type": "code",
   "execution_count": 22,
   "metadata": {
    "collapsed": true
   },
   "outputs": [],
   "source": [
    "y_model = m*xph + b  #this is essentially a graph"
   ]
  },
  {
   "cell_type": "code",
   "execution_count": 24,
   "metadata": {
    "collapsed": true
   },
   "outputs": [],
   "source": [
    "error = tf.reduce_sum(tf.square(yph-y_model))"
   ]
  },
  {
   "cell_type": "code",
   "execution_count": 26,
   "metadata": {},
   "outputs": [],
   "source": [
    "optimizer = tf.train.GradientDescentOptimizer(learning_rate = 0.001)\n",
    "train = optimizer.minimize(error)"
   ]
  },
  {
   "cell_type": "code",
   "execution_count": 27,
   "metadata": {
    "collapsed": true
   },
   "outputs": [],
   "source": [
    "init = tf.global_variables_initializer()"
   ]
  },
  {
   "cell_type": "code",
   "execution_count": 45,
   "metadata": {},
   "outputs": [],
   "source": [
    "with tf.Session() as sess:\n",
    "    sess.run(init)\n",
    "    \n",
    "    batches = 10000\n",
    "    \n",
    "    for i in range(batches):\n",
    "        rand_ind = np.random.randint(len(x_data), size = batch_size)\n",
    "        feed = {xph: x_data[rand_ind], yph: y_true[rand_ind]}\n",
    "        \n",
    "        sess.run(train, feed_dict = feed)\n",
    "        \n",
    "    model_m, model_b = sess.run([m,b])"
   ]
  },
  {
   "cell_type": "code",
   "execution_count": 46,
   "metadata": {},
   "outputs": [
    {
     "data": {
      "text/plain": [
       "0.5015378"
      ]
     },
     "execution_count": 46,
     "metadata": {},
     "output_type": "execute_result"
    }
   ],
   "source": [
    "model_m"
   ]
  },
  {
   "cell_type": "code",
   "execution_count": 47,
   "metadata": {},
   "outputs": [
    {
     "data": {
      "text/plain": [
       "5.50392"
      ]
     },
     "execution_count": 47,
     "metadata": {},
     "output_type": "execute_result"
    }
   ],
   "source": [
    "model_b"
   ]
  },
  {
   "cell_type": "code",
   "execution_count": 48,
   "metadata": {},
   "outputs": [],
   "source": [
    "#y = mx + b\n",
    "y_hat = model_m*x_data + model_b"
   ]
  },
  {
   "cell_type": "code",
   "execution_count": 49,
   "metadata": {},
   "outputs": [
    {
     "data": {
      "text/plain": [
       "[<matplotlib.lines.Line2D at 0x1824f88208>]"
      ]
     },
     "execution_count": 49,
     "metadata": {},
     "output_type": "execute_result"
    },
    {
     "data": {
      "image/png": "[encoded data removed]",
      "text/plain": [
       "<matplotlib.figure.Figure at 0x1824f88f98>"
      ]
     },
     "metadata": {},
     "output_type": "display_data"
    }
   ],
   "source": [
    "my_data.sample(250).plot(kind='scatter', x='X Data', y='Y')\n",
    "plt.plot(x_data,y_hat,'-r')"
   ]
  },
  {
   "cell_type": "markdown",
   "metadata": {},
   "source": [
    "# Solve the same problem with TF API tf.estimator"
   ]
  },
  {
   "cell_type": "code",
   "execution_count": 50,
   "metadata": {
    "collapsed": true
   },
   "outputs": [],
   "source": [
    "feat_cols = [tf.feature_column.numeric_column('x', shape =[1])]"
   ]
  },
  {
   "cell_type": "code",
   "execution_count": 53,
   "metadata": {},
   "outputs": [
    {
     "name": "stdout",
     "output_type": "stream",
     "text": [
      "INFO:tensorflow:Using default config.\n",
      "WARNING:tensorflow:Using temporary folder as model directory: /var/folders/t9/wrvs828j3qx2tvhc10_c8b400000gn/T/tmpq7h6o3_o\n",
      "INFO:tensorflow:Using config: {'_model_dir': '/var/folders/t9/wrvs828j3qx2tvhc10_c8b400000gn/T/tmpq7h6o3_o', '_tf_random_seed': None, '_save_summary_steps': 100, '_save_checkpoints_steps': None, '_save_checkpoints_secs': 600, '_session_config': None, '_keep_checkpoint_max': 5, '_keep_checkpoint_every_n_hours': 10000, '_log_step_count_steps': 100, '_service': None, '_cluster_spec': <tensorflow.python.training.server_lib.ClusterSpec object at 0x1826373f60>, '_task_type': 'worker', '_task_id': 0, '_master': '', '_is_chief': True, '_num_ps_replicas': 0, '_num_worker_replicas': 1}\n"
     ]
    }
   ],
   "source": [
    "estimator = tf.estimator.LinearRegressor(feat_cols)"
   ]
  },
  {
   "cell_type": "code",
   "execution_count": 69,
   "metadata": {},
   "outputs": [
    {
     "data": {
      "text/plain": [
       "array([ 5.3810751 ,  5.0554062 ,  5.68305982, ..., 10.90340917,\n",
       "       10.21084505, 10.83434516])"
      ]
     },
     "execution_count": 69,
     "metadata": {},
     "output_type": "execute_result"
    }
   ],
   "source": [
    "y_true #the same y column we created above"
   ]
  },
  {
   "cell_type": "code",
   "execution_count": 54,
   "metadata": {
    "collapsed": true
   },
   "outputs": [],
   "source": [
    "from sklearn.model_selection import train_test_split"
   ]
  },
  {
   "cell_type": "code",
   "execution_count": 55,
   "metadata": {
    "collapsed": true
   },
   "outputs": [],
   "source": [
    "x_train, x_eval, y_train, y_eval = train_test_split(x_data, y_true, test_size=0.3, random_state =101)"
   ]
  },
  {
   "cell_type": "code",
   "execution_count": 59,
   "metadata": {},
   "outputs": [
    {
     "name": "stdout",
     "output_type": "stream",
     "text": [
      "(700000,)\n"
     ]
    }
   ],
   "source": [
    "print(x_train.shape)"
   ]
  },
  {
   "cell_type": "code",
   "execution_count": 61,
   "metadata": {},
   "outputs": [
    {
     "data": {
      "text/plain": [
       "(300000,)"
      ]
     },
     "execution_count": 61,
     "metadata": {},
     "output_type": "execute_result"
    }
   ],
   "source": [
    "x_eval.shape"
   ]
  },
  {
   "cell_type": "code",
   "execution_count": 62,
   "metadata": {
    "collapsed": true
   },
   "outputs": [],
   "source": [
    "input_func = tf.estimator.inputs.numpy_input_fn({'x':x_train}, y_train, batch_size = 8, num_epochs=None,shuffle=True)"
   ]
  },
  {
   "cell_type": "code",
   "execution_count": 63,
   "metadata": {
    "collapsed": true
   },
   "outputs": [],
   "source": [
    "train_input_func = tf.estimator.inputs.numpy_input_fn({'x':x_train}, y_train, batch_size = 8, num_epochs=1000,shuffle=False)"
   ]
  },
  {
   "cell_type": "code",
   "execution_count": 64,
   "metadata": {
    "collapsed": true
   },
   "outputs": [],
   "source": [
    "eval_input_func = tf.estimator.inputs.numpy_input_fn({'x':x_eval}, y_eval, batch_size = 8, num_epochs=1000,shuffle=False)"
   ]
  },
  {
   "cell_type": "code",
   "execution_count": 71,
   "metadata": {},
   "outputs": [
    {
     "name": "stdout",
     "output_type": "stream",
     "text": [
      "INFO:tensorflow:Create CheckpointSaverHook.\n",
      "INFO:tensorflow:Saving checkpoints for 1 into /var/folders/t9/wrvs828j3qx2tvhc10_c8b400000gn/T/tmpq7h6o3_o/model.ckpt.\n",
      "INFO:tensorflow:loss = 501.51968, step = 1\n",
      "INFO:tensorflow:global_step/sec: 1069.14\n",
      "INFO:tensorflow:loss = 10.820819, step = 101 (0.095 sec)\n",
      "INFO:tensorflow:global_step/sec: 1327.79\n",
      "INFO:tensorflow:loss = 22.235668, step = 201 (0.076 sec)\n",
      "INFO:tensorflow:global_step/sec: 1282.03\n",
      "INFO:tensorflow:loss = 17.878117, step = 301 (0.078 sec)\n",
      "INFO:tensorflow:global_step/sec: 1306.2\n",
      "INFO:tensorflow:loss = 5.432604, step = 401 (0.077 sec)\n",
      "INFO:tensorflow:global_step/sec: 1396.51\n",
      "INFO:tensorflow:loss = 4.151667, step = 501 (0.071 sec)\n",
      "INFO:tensorflow:global_step/sec: 1392.45\n",
      "INFO:tensorflow:loss = 2.8142018, step = 601 (0.072 sec)\n",
      "INFO:tensorflow:global_step/sec: 1386.29\n",
      "INFO:tensorflow:loss = 2.9249115, step = 701 (0.073 sec)\n",
      "INFO:tensorflow:global_step/sec: 1330.87\n",
      "INFO:tensorflow:loss = 4.0253506, step = 801 (0.074 sec)\n",
      "INFO:tensorflow:global_step/sec: 1390.43\n",
      "INFO:tensorflow:loss = 0.46301737, step = 901 (0.072 sec)\n",
      "INFO:tensorflow:Saving checkpoints for 1000 into /var/folders/t9/wrvs828j3qx2tvhc10_c8b400000gn/T/tmpq7h6o3_o/model.ckpt.\n",
      "INFO:tensorflow:Loss for final step: 0.913079.\n"
     ]
    },
    {
     "data": {
      "text/plain": [
       "<tensorflow.python.estimator.canned.linear.LinearRegressor at 0x18263731d0>"
      ]
     },
     "execution_count": 71,
     "metadata": {},
     "output_type": "execute_result"
    }
   ],
   "source": [
    "estimator.train(input_fn=input_func,steps=1000)"
   ]
  },
  {
   "cell_type": "code",
   "execution_count": 74,
   "metadata": {},
   "outputs": [
    {
     "name": "stdout",
     "output_type": "stream",
     "text": [
      "INFO:tensorflow:Starting evaluation at 2018-04-09-19:32:54\n",
      "INFO:tensorflow:Restoring parameters from /var/folders/t9/wrvs828j3qx2tvhc10_c8b400000gn/T/tmpq7h6o3_o/model.ckpt-1000\n",
      "INFO:tensorflow:Evaluation [100/1000]\n",
      "INFO:tensorflow:Evaluation [200/1000]\n",
      "INFO:tensorflow:Evaluation [300/1000]\n",
      "INFO:tensorflow:Evaluation [400/1000]\n",
      "INFO:tensorflow:Evaluation [500/1000]\n",
      "INFO:tensorflow:Evaluation [600/1000]\n",
      "INFO:tensorflow:Evaluation [700/1000]\n",
      "INFO:tensorflow:Evaluation [800/1000]\n",
      "INFO:tensorflow:Evaluation [900/1000]\n",
      "INFO:tensorflow:Evaluation [1000/1000]\n",
      "INFO:tensorflow:Finished evaluation at 2018-04-09-19:32:55\n",
      "INFO:tensorflow:Saving dict for global step 1000: average_loss = 0.21065943, global_step = 1000, loss = 1.6852754\n"
     ]
    }
   ],
   "source": [
    "train_metrics = estimator.evaluate(input_fn=train_input_func,steps=1000)"
   ]
  },
  {
   "cell_type": "code",
   "execution_count": 75,
   "metadata": {},
   "outputs": [
    {
     "name": "stdout",
     "output_type": "stream",
     "text": [
      "INFO:tensorflow:Starting evaluation at 2018-04-09-19:33:59\n",
      "INFO:tensorflow:Restoring parameters from /var/folders/t9/wrvs828j3qx2tvhc10_c8b400000gn/T/tmpq7h6o3_o/model.ckpt-1000\n",
      "INFO:tensorflow:Evaluation [100/1000]\n",
      "INFO:tensorflow:Evaluation [200/1000]\n",
      "INFO:tensorflow:Evaluation [300/1000]\n",
      "INFO:tensorflow:Evaluation [400/1000]\n",
      "INFO:tensorflow:Evaluation [500/1000]\n",
      "INFO:tensorflow:Evaluation [600/1000]\n",
      "INFO:tensorflow:Evaluation [700/1000]\n",
      "INFO:tensorflow:Evaluation [800/1000]\n",
      "INFO:tensorflow:Evaluation [900/1000]\n",
      "INFO:tensorflow:Evaluation [1000/1000]\n",
      "INFO:tensorflow:Finished evaluation at 2018-04-09-19:34:00\n",
      "INFO:tensorflow:Saving dict for global step 1000: average_loss = 0.21436286, global_step = 1000, loss = 1.7149029\n"
     ]
    }
   ],
   "source": [
    "eval_metrics = estimator.evaluate(input_fn=eval_input_func, steps=1000)"
   ]
  },
  {
   "cell_type": "code",
   "execution_count": 76,
   "metadata": {},
   "outputs": [
    {
     "name": "stdout",
     "output_type": "stream",
     "text": [
      "TRAINING DATA METRICS\n",
      "{'average_loss': 0.21065943, 'loss': 1.6852754, 'global_step': 1000}\n"
     ]
    }
   ],
   "source": [
    "print('TRAINING DATA METRICS')\n",
    "print(train_metrics)"
   ]
  },
  {
   "cell_type": "code",
   "execution_count": 77,
   "metadata": {},
   "outputs": [
    {
     "name": "stdout",
     "output_type": "stream",
     "text": [
      "EVALUATION DATA METRICS\n",
      "{'average_loss': 0.21436286, 'loss': 1.7149029, 'global_step': 1000}\n"
     ]
    }
   ],
   "source": [
    "print('EVALUATION DATA METRICS')\n",
    "print(eval_metrics)"
   ]
  },
  {
   "cell_type": "code",
   "execution_count": 78,
   "metadata": {
    "collapsed": true
   },
   "outputs": [],
   "source": [
    "#New data\n",
    "brand_new_data = np.linspace(0,10,10)"
   ]
  },
  {
   "cell_type": "code",
   "execution_count": 80,
   "metadata": {
    "collapsed": true
   },
   "outputs": [],
   "source": [
    "input_fn_predict = tf.estimator.inputs.numpy_input_fn({'x':brand_new_data}, shuffle = False)"
   ]
  },
  {
   "cell_type": "code",
   "execution_count": 82,
   "metadata": {},
   "outputs": [
    {
     "name": "stdout",
     "output_type": "stream",
     "text": [
      "INFO:tensorflow:Restoring parameters from /var/folders/t9/wrvs828j3qx2tvhc10_c8b400000gn/T/tmpq7h6o3_o/model.ckpt-1000\n"
     ]
    },
    {
     "data": {
      "text/plain": [
       "[{'predictions': array([4.788874], dtype=float32)},\n",
       " {'predictions': array([5.4677477], dtype=float32)},\n",
       " {'predictions': array([6.146621], dtype=float32)},\n",
       " {'predictions': array([6.825495], dtype=float32)},\n",
       " {'predictions': array([7.504368], dtype=float32)},\n",
       " {'predictions': array([8.183241], dtype=float32)},\n",
       " {'predictions': array([8.862115], dtype=float32)},\n",
       " {'predictions': array([9.540989], dtype=float32)},\n",
       " {'predictions': array([10.219862], dtype=float32)},\n",
       " {'predictions': array([10.898735], dtype=float32)}]"
      ]
     },
     "execution_count": 82,
     "metadata": {},
     "output_type": "execute_result"
    }
   ],
   "source": [
    "list(estimator.predict(input_fn=input_fn_predict))"
   ]
  },
  {
   "cell_type": "code",
   "execution_count": 108,
   "metadata": {},
   "outputs": [
    {
     "name": "stdout",
     "output_type": "stream",
     "text": [
      "INFO:tensorflow:Restoring parameters from /var/folders/t9/wrvs828j3qx2tvhc10_c8b400000gn/T/tmpq7h6o3_o/model.ckpt-1000\n"
     ]
    },
    {
     "data": {
      "text/plain": [
       "[array([4.788874], dtype=float32),\n",
       " array([5.4677477], dtype=float32),\n",
       " array([6.146621], dtype=float32),\n",
       " array([6.825495], dtype=float32),\n",
       " array([7.504368], dtype=float32),\n",
       " array([8.183241], dtype=float32),\n",
       " array([8.862115], dtype=float32),\n",
       " array([9.540989], dtype=float32),\n",
       " array([10.219862], dtype=float32),\n",
       " array([10.898735], dtype=float32)]"
      ]
     },
     "execution_count": 108,
     "metadata": {},
     "output_type": "execute_result"
    }
   ],
   "source": [
    "#Extracting the predictions 1\n",
    "preds = list(estimator.predict(input_fn=input_fn_predict))\n",
    "predictions = [pred[\"predictions\"] for pred in preds]\n",
    "predictions"
   ]
  },
  {
   "cell_type": "code",
   "execution_count": 83,
   "metadata": {},
   "outputs": [
    {
     "name": "stdout",
     "output_type": "stream",
     "text": [
      "INFO:tensorflow:Restoring parameters from /var/folders/t9/wrvs828j3qx2tvhc10_c8b400000gn/T/tmpq7h6o3_o/model.ckpt-1000\n"
     ]
    }
   ],
   "source": [
    "#OR\n",
    "predictions =[]\n",
    "#each of the items is a dictionary\n",
    "for pred in estimator.predict(input_fn=input_fn_predict):\n",
    "    predictions.append(pred['predictions'])"
   ]
  },
  {
   "cell_type": "code",
   "execution_count": 84,
   "metadata": {},
   "outputs": [
    {
     "data": {
      "text/plain": [
       "[array([4.788874], dtype=float32),\n",
       " array([5.4677477], dtype=float32),\n",
       " array([6.146621], dtype=float32),\n",
       " array([6.825495], dtype=float32),\n",
       " array([7.504368], dtype=float32),\n",
       " array([8.183241], dtype=float32),\n",
       " array([8.862115], dtype=float32),\n",
       " array([9.540989], dtype=float32),\n",
       " array([10.219862], dtype=float32),\n",
       " array([10.898735], dtype=float32)]"
      ]
     },
     "execution_count": 84,
     "metadata": {},
     "output_type": "execute_result"
    }
   ],
   "source": [
    "predictions"
   ]
  },
  {
   "cell_type": "code",
   "execution_count": 86,
   "metadata": {},
   "outputs": [
    {
     "data": {
      "text/plain": [
       "[<matplotlib.lines.Line2D at 0x1a2b42bfd0>]"
      ]
     },
     "execution_count": 86,
     "metadata": {},
     "output_type": "execute_result"
    },
    {
     "data": {
      "image/png": "[encoded data removed]",
      "text/plain": [
       "<matplotlib.figure.Figure at 0x1a2b42b240>"
      ]
     },
     "metadata": {},
     "output_type": "display_data"
    }
   ],
   "source": [
    "my_data.sample(n=250).plot(kind='scatter',x='X Data',y='Y')\n",
    "plt.plot(brand_new_data,predictions,'r')"
   ]
  },
  {
   "cell_type": "code",
   "execution_count": null,
   "metadata": {
    "collapsed": true
   },
   "outputs": [],
   "source": []
  }
 ],
 "metadata": {
  "kernelspec": {
   "display_name": "Python 3",
   "language": "python",
   "name": "python3"
  },
  "language_info": {
   "codemirror_mode": {
    "name": "ipython",
    "version": 3
   },
   "file_extension": ".py",
   "mimetype": "text/x-python",
   "name": "python",
   "nbconvert_exporter": "python",
   "pygments_lexer": "ipython3",
   "version": "3.6.2"
  }
 },
 "nbformat": 4,
 "nbformat_minor": 2
}
