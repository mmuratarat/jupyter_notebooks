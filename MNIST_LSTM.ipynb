{
 "cells": [
  {
   "cell_type": "code",
   "execution_count": 1,
   "metadata": {},
   "outputs": [
    {
     "data": {
      "text/plain": [
       "'0'"
      ]
     },
     "execution_count": 1,
     "metadata": {},
     "output_type": "execute_result"
    }
   ],
   "source": [
    "import os\n",
    "os.environ['CUDA_VISIBLE_DEVICES']"
   ]
  },
  {
   "cell_type": "code",
   "execution_count": 2,
   "metadata": {},
   "outputs": [
    {
     "name": "stderr",
     "output_type": "stream",
     "text": [
      "/usr/lib/python3.5/importlib/_bootstrap.py:222: RuntimeWarning: numpy.dtype size changed, may indicate binary incompatibility. Expected 96, got 88\n",
      "  return f(*args, **kwds)\n",
      "/usr/lib/python3.5/importlib/_bootstrap.py:222: RuntimeWarning: numpy.dtype size changed, may indicate binary incompatibility. Expected 96, got 88\n",
      "  return f(*args, **kwds)\n",
      "/usr/lib/python3.5/importlib/_bootstrap.py:222: RuntimeWarning: numpy.dtype size changed, may indicate binary incompatibility. Expected 96, got 88\n",
      "  return f(*args, **kwds)\n",
      "/usr/lib/python3.5/importlib/_bootstrap.py:222: RuntimeWarning: numpy.dtype size changed, may indicate binary incompatibility. Expected 96, got 88\n",
      "  return f(*args, **kwds)\n"
     ]
    }
   ],
   "source": [
    "import numpy as np \n",
    "import pandas as pd \n",
    "import tensorflow as tf\n",
    "import time\n",
    "import math\n",
    "\n",
    "from datetime import datetime\n",
    "import os\n",
    "import matplotlib.pyplot as plt\n",
    "plt.rcParams['figure.figsize'] = (8,7)\n",
    "%matplotlib inline"
   ]
  },
  {
   "cell_type": "code",
   "execution_count": 3,
   "metadata": {},
   "outputs": [
    {
     "name": "stderr",
     "output_type": "stream",
     "text": [
      "/usr/lib/python3.5/importlib/_bootstrap.py:222: RuntimeWarning: numpy.dtype size changed, may indicate binary incompatibility. Expected 96, got 88\n",
      "  return f(*args, **kwds)\n",
      "/usr/lib/python3.5/importlib/_bootstrap.py:222: RuntimeWarning: numpy.dtype size changed, may indicate binary incompatibility. Expected 96, got 88\n",
      "  return f(*args, **kwds)\n"
     ]
    },
    {
     "name": "stdout",
     "output_type": "stream",
     "text": [
      "Extracting MNIST_data/train-images-idx3-ubyte.gz\n",
      "Extracting MNIST_data/train-labels-idx1-ubyte.gz\n",
      "Extracting MNIST_data/t10k-images-idx3-ubyte.gz\n",
      "Extracting MNIST_data/t10k-labels-idx1-ubyte.gz\n"
     ]
    }
   ],
   "source": [
    "old_v = tf.logging.get_verbosity()\n",
    "tf.logging.set_verbosity(tf.logging.ERROR)\n",
    "from tensorflow.examples.tutorials.mnist import input_data\n",
    "\n",
    "#Data parameters\n",
    "num_inputs = 28\n",
    "num_classes = 10\n",
    "num_steps=28\n",
    "\n",
    "mnist = input_data.read_data_sets(\"MNIST_data/\", one_hot=True)\n",
    "Xtrain = mnist.train.images  # Returns np.array\n",
    "Xtrain = Xtrain.reshape((-1, num_steps, num_inputs))\n",
    "ytrain = np.asarray(mnist.train.labels, dtype=np.int32)\n",
    "Xtest = mnist.test.images  # Returns np.array\n",
    "Xtest = Xtest.reshape([-1, num_steps, num_inputs])\n",
    "ytest = np.asarray(mnist.test.labels, dtype=np.int32)\n",
    "\n",
    "tf.logging.set_verbosity(old_v)"
   ]
  },
  {
   "cell_type": "code",
   "execution_count": 4,
   "metadata": {},
   "outputs": [
    {
     "name": "stdout",
     "output_type": "stream",
     "text": [
      "(55000, 28, 28)\n",
      "(55000, 10)\n",
      "(10000, 28, 28)\n",
      "(10000, 10)\n"
     ]
    }
   ],
   "source": [
    "print(Xtrain.shape)\n",
    "print(ytrain.shape)\n",
    "print(Xtest.shape)\n",
    "print(ytest.shape)"
   ]
  },
  {
   "cell_type": "code",
   "execution_count": 5,
   "metadata": {},
   "outputs": [],
   "source": [
    "def draw_digits(digits, labels, n_rows=3):\n",
    "    n = len(digits)\n",
    "    n_cols = int(n / n_rows)\n",
    "    for i in range(0, n):\n",
    "        plt.subplot(n_rows, n_cols, i+1)\n",
    "        img = digits[i].reshape(28,28)\n",
    "        label = labels[i].argmax()\n",
    "        plt.imshow(img, cmap='gray', interpolation='none')\n",
    "        plt.title(label, fontsize=12)\n",
    "        plt.tick_params(axis='both', which='major', labelsize=6)\n",
    "        plt.subplots_adjust(hspace=0.0, wspace=0.5)"
   ]
  },
  {
   "cell_type": "code",
   "execution_count": 6,
   "metadata": {},
   "outputs": [
    {
     "data": {
      "image/png": "[encoded data removed]",
      "text/plain": [
       "<Figure size 576x504 with 24 Axes>"
      ]
     },
     "metadata": {},
     "output_type": "display_data"
    }
   ],
   "source": [
    "plt.rcParams['figure.figsize'] = (8,7)\n",
    "digits = mnist.train.images[500:524]\n",
    "labels = mnist.train.labels[500:524]\n",
    "draw_digits(digits, labels, n_rows=4)"
   ]
  },
  {
   "cell_type": "code",
   "execution_count": 7,
   "metadata": {},
   "outputs": [],
   "source": [
    "def log_dir(root_logdir= \"\", prefix=\"\"):\n",
    "    now = datetime.utcnow().strftime(\"%Y%m%d%H%M%S\")\n",
    "    if prefix:\n",
    "        prefix += \"-\"\n",
    "    name = prefix + \"run-\" + now\n",
    "    return \"{}/{}/\".format(root_logdir, name)"
   ]
  },
  {
   "cell_type": "code",
   "execution_count": 8,
   "metadata": {},
   "outputs": [],
   "source": [
    "def create_summaries(loss, accuracy):\n",
    "    tf.summary.scalar(\"loss\", loss)\n",
    "    tf.summary.scalar(\"accuracy\", accuracy)\n",
    "    tf.summary.histogram(\"histogram_loss\", loss)\n",
    "    summary_op = tf.summary.merge_all()\n",
    "    return summary_op"
   ]
  },
  {
   "cell_type": "code",
   "execution_count": 9,
   "metadata": {},
   "outputs": [],
   "source": [
    "def LSTM(X, y, keep_prob, num_layers, num_neurons, learning_rate, seed = 42, initializer=None):\n",
    "    num_inputs = X.get_shape()[2] #28\n",
    "    num_classes = y.get_shape()[1] #10\n",
    "    num_steps=X.get_shape()[1] #28\n",
    "    with tf.name_scope(\"LSTM\"):\n",
    "        with tf.name_scope(\"Model\"):\n",
    "            if initializer is None:\n",
    "                initializer = tf.random_uniform_initializer(minval = -0.1, maxval = 0.1, seed=seed)\n",
    "            lstm_cells = [tf.contrib.rnn.LSTMCell(num_units=num_neurons, forget_bias=1.0, initializer=initializer, state_is_tuple=True) for layer in range(num_layers)]\n",
    "            lstm_cells_drop = [tf.contrib.rnn.DropoutWrapper(cell, input_keep_prob=keep_prob) for cell in lstm_cells]\n",
    "            multi_layer_cell = tf.contrib.rnn.MultiRNNCell(lstm_cells_drop, state_is_tuple=True)\n",
    "            outputs, states = tf.nn.dynamic_rnn(multi_layer_cell, X, time_major = False, dtype=tf.float32)#[Batch_size, time_steps, num_neurons]\n",
    "        with tf.name_scope('Dense'):\n",
    "            logits =  tf.layers.dense(inputs = states[-1].h, units = num_classes, name=\"logits\") #[Batch_size, num_classes]\n",
    "        with tf.name_scope('Predictions'):\n",
    "            predictions = tf.nn.softmax(logits, name=\"predictions\")  #[Batch_size, num_classes]\n",
    "        with tf.name_scope('Accuracy'):\n",
    "            correct_prediction = tf.equal(tf.argmax(predictions, 1), tf.argmax(y, 1))\n",
    "            accuracy = tf.reduce_mean(tf.cast(correct_prediction, tf.float32))\n",
    "        with tf.name_scope('Loss'):\n",
    "            loss = tf.reduce_mean(tf.nn.softmax_cross_entropy_with_logits_v2(logits=logits, labels=y))\n",
    "        with tf.name_scope('Train'):\n",
    "            trainer= tf.train.AdamOptimizer(learning_rate=learning_rate).minimize(loss)\n",
    "        with tf.name_scope(\"summaries\"):\n",
    "            summary_op = create_summaries(loss, accuracy)\n",
    "        with tf.name_scope(\"Saver\"):\n",
    "            saver = tf.train.Saver(max_to_keep=1000000) \n",
    "    return predictions, accuracy, loss, trainer, summary_op, saver, lstm_cells"
   ]
  },
  {
   "cell_type": "code",
   "execution_count": 10,
   "metadata": {},
   "outputs": [],
   "source": [
    "#Network parameters\n",
    "num_layers = 1\n",
    "num_neurons = 128\n",
    "learning_rate = 0.0001\n",
    "\n",
    "logdir = log_dir(\"tf_logs\", \"logreg\")\n",
    "\n",
    "X = tf.placeholder(tf.float32, [None, num_steps, num_inputs], name='input_placeholder')\n",
    "y = tf.placeholder(tf.float32, [None, num_classes], name='labels_placeholder')\n",
    "keep_prob = tf.placeholder_with_default(1.0, shape=(), name =\"keep_prop\")\n",
    "\n",
    "predictions, accuracy, loss, trainer, summary_op, saver, lstm_cells = LSTM(X, y, keep_prob, num_layers, num_neurons, learning_rate)\n",
    "\n",
    "train_writer = tf.summary.FileWriter(logdir + '/train', tf.get_default_graph())\n",
    "validation_writer = tf.summary.FileWriter(logdir + '/val', tf.get_default_graph())"
   ]
  },
  {
   "cell_type": "code",
   "execution_count": 11,
   "metadata": {},
   "outputs": [
    {
     "name": "stdout",
     "output_type": "stream",
     "text": [
      "Initialized\n",
      "Epoch: 1 -  Training Loss: 0.93136,  Training Accuracy: 68.54%,  Validation Loss: 0.7863,  Validation Accuracy: 74.99% *\n",
      "Epoch: 2 -  Training Loss: 0.58918,  Training Accuracy: 80.86%,  Validation Loss: 0.4312,  Validation Accuracy: 87.47% *\n",
      "Epoch: 3 -  Training Loss: 0.47031,  Training Accuracy: 84.81%,  Validation Loss: 0.3203,  Validation Accuracy: 90.70% *\n",
      "Epoch: 4 -  Training Loss: 0.39549,  Training Accuracy: 87.29%,  Validation Loss: 0.2622,  Validation Accuracy: 91.90% *\n",
      "Epoch: 5 -  Training Loss: 0.36798,  Training Accuracy: 88.25%,  Validation Loss: 0.2287,  Validation Accuracy: 93.02% *\n",
      "Epoch: 6 -  Training Loss: 0.31550,  Training Accuracy: 90.00%,  Validation Loss: 0.2096,  Validation Accuracy: 93.87% *\n",
      "Epoch: 7 -  Training Loss: 0.28571,  Training Accuracy: 90.89%,  Validation Loss: 0.1832,  Validation Accuracy: 94.58% *\n",
      "Epoch: 8 -  Training Loss: 0.26621,  Training Accuracy: 91.58%,  Validation Loss: 0.1654,  Validation Accuracy: 95.11% *\n",
      "Epoch: 9 -  Training Loss: 0.25447,  Training Accuracy: 91.96%,  Validation Loss: 0.1740,  Validation Accuracy: 94.92% \n",
      "Epoch: 10 -  Training Loss: 0.23827,  Training Accuracy: 92.53%,  Validation Loss: 0.1656,  Validation Accuracy: 94.99% \n",
      "Optimization Finished!\n"
     ]
    }
   ],
   "source": [
    "batch_size = 128\n",
    "num_epochs = 10\n",
    "train_keep_prob = 0.5\n",
    "display_step = 1\n",
    "\n",
    "checkpoint_path = logdir + \"my_deep_model.ckpt\"\n",
    "checkpoint_epoch_path = checkpoint_path + \".epoch\"\n",
    "final_model_path = logdir + \"final/my_deep_model\"\n",
    "\n",
    "best_loss = np.infty\n",
    "epochs_without_progress = 0\n",
    "max_epochs_without_progress = 5\n",
    "\n",
    "loss_list = []\n",
    "acc_list = []\n",
    "\n",
    "with tf.Session() as sess:\n",
    "    if os.path.isfile(checkpoint_epoch_path):\n",
    "        # if the checkpoint file exists, restore the model and load the epoch number\n",
    "        with open(checkpoint_epoch_path, \"rb\") as f:\n",
    "            start_epoch = int(f.read())\n",
    "        print(\"Training was interrupted. Continuing at epoch\", start_epoch)\n",
    "        saver.restore(sess, checkpoint_path)\n",
    "    else:\n",
    "        start_epoch = 1\n",
    "        tf.global_variables_initializer().run()\n",
    "        print(\"Initialized\")\n",
    "        \n",
    "    for epoch in range(start_epoch, num_epochs+1):\n",
    "        batchNum = mnist.train.num_examples // batch_size\n",
    "        for batch in range(batchNum):\n",
    "            xBatch, yBatch = mnist.train.next_batch(batch_size)\n",
    "            xBatch = xBatch.reshape((batch_size, num_steps, num_inputs))\n",
    "            _, miniBatchCost = sess.run([trainer, loss], feed_dict={X: xBatch, y: yBatch, keep_prob:train_keep_prob})\n",
    "        accuracy_train, loss_train, summary_train = sess.run([accuracy, loss, summary_op], feed_dict={X: Xtrain, y: ytrain, keep_prob:train_keep_prob})\n",
    "        accuracy_val, loss_val, summary_val = sess.run([accuracy, loss, summary_op], feed_dict={X: Xtest, y: ytest, keep_prob:1.0})\n",
    "        loss_list.append((loss_train, loss_val))\n",
    "        acc_list.append((accuracy_train, accuracy_val))\n",
    "    \n",
    "        train_writer.add_summary(summary_train, epoch)\n",
    "        validation_writer.add_summary(summary_val, epoch)\n",
    "        \n",
    "        if epoch % display_step == 0 or epoch == 1:\n",
    "            saver.save(sess, checkpoint_path)\n",
    "            with open(checkpoint_epoch_path, \"wb\") as f:\n",
    "                f.write(b\"%d\" % (epoch))\n",
    "            if loss_val < best_loss:\n",
    "                saver.save(sess, final_model_path)\n",
    "                best_loss = loss_val\n",
    "                save_message = \"*\"\n",
    "            else:\n",
    "                epochs_without_progress += 1\n",
    "                save_message = \"\"\n",
    "                if epochs_without_progress > max_epochs_without_progress:\n",
    "                    print(\"Early stopping\")\n",
    "                    break\n",
    "            print(\"Epoch: {:d} - \".format(epoch), \\\n",
    "                  \"Training Loss: {:.5f}, \".format(loss_train), \\\n",
    "                  \"Training Accuracy: {:.2f}%, \".format(accuracy_train*100), \\\n",
    "                  \"Validation Loss: {:.4f}, \".format(loss_val), \\\n",
    "                  \"Validation Accuracy: {:.2f}%\".format(accuracy_val*100),\\\n",
    "                   save_message)\n",
    "    print(\"Optimization Finished!\")\n",
    "    \n",
    "    train_writer.flush()\n",
    "    validation_writer.flush()\n",
    "    train_writer.close()\n",
    "    validation_writer.close()"
   ]
  },
  {
   "cell_type": "code",
   "execution_count": 12,
   "metadata": {},
   "outputs": [
    {
     "data": {
      "image/png": "[encoded data removed]",
      "text/plain": [
       "<Figure size 576x504 with 1 Axes>"
      ]
     },
     "metadata": {},
     "output_type": "display_data"
    },
    {
     "data": {
      "image/png": "[encoded data removed]",
      "text/plain": [
       "<Figure size 576x504 with 1 Axes>"
      ]
     },
     "metadata": {},
     "output_type": "display_data"
    }
   ],
   "source": [
    "loss_train = []\n",
    "loss_val = []\n",
    "for i in range(num_epochs):\n",
    "    loss_train.append(loss_list[i][0])\n",
    "    loss_val.append(loss_list[i][1])\n",
    "    \n",
    "acc_train = []\n",
    "acc_val = []\n",
    "for i in range(num_epochs):\n",
    "    acc_train.append(acc_list[i][0])\n",
    "    acc_val.append(acc_list[i][1])\n",
    "\n",
    "plt.plot(loss_train, label='Train Loss')\n",
    "plt.plot(loss_val, label='Validation Loss')\n",
    "plt.xlabel('Epoch')\n",
    "plt.ylabel('Cost')\n",
    "plt.title(\"Loss\")\n",
    "plt.legend()\n",
    "plt.show()\n",
    "\n",
    "plt.plot(acc_train, label='Train Accuracy')\n",
    "plt.plot(acc_val, label = 'Validation Accuracy')\n",
    "plt.xlabel('Epoch')\n",
    "plt.ylabel('Cost')\n",
    "plt.title(\"Accuracy\")\n",
    "plt.legend()\n",
    "plt.show()"
   ]
  },
  {
   "cell_type": "code",
   "execution_count": 14,
   "metadata": {},
   "outputs": [
    {
     "name": "stdout",
     "output_type": "stream",
     "text": [
      "INFO:tensorflow:Restoring parameters from ./tf_logs/logreg-run-20181023152614/my_deep_model.ckpt\n",
      "Restored Operations from MetaGraph:\n",
      "['train_op', 'update_ops', 'summaries', 'variables', 'while_context', 'trainable_variables']\n",
      "<tf.Variable 'rnn/multi_rnn_cell/cell_0/lstm_cell/kernel:0' shape=(156, 512) dtype=float32_ref>\n",
      "<tf.Variable 'rnn/multi_rnn_cell/cell_0/lstm_cell/bias:0' shape=(512,) dtype=float32_ref>\n",
      "<tf.Variable 'logits/kernel:0' shape=(128, 10) dtype=float32_ref>\n",
      "<tf.Variable 'logits/bias:0' shape=(10,) dtype=float32_ref>\n",
      "<tf.Variable 'LSTM/Train/beta1_power:0' shape=() dtype=float32_ref>\n",
      "<tf.Variable 'LSTM/Train/beta2_power:0' shape=() dtype=float32_ref>\n",
      "<tf.Variable 'rnn/multi_rnn_cell/cell_0/lstm_cell/kernel/Adam:0' shape=(156, 512) dtype=float32_ref>\n",
      "<tf.Variable 'rnn/multi_rnn_cell/cell_0/lstm_cell/kernel/Adam_1:0' shape=(156, 512) dtype=float32_ref>\n",
      "<tf.Variable 'rnn/multi_rnn_cell/cell_0/lstm_cell/bias/Adam:0' shape=(512,) dtype=float32_ref>\n",
      "<tf.Variable 'rnn/multi_rnn_cell/cell_0/lstm_cell/bias/Adam_1:0' shape=(512,) dtype=float32_ref>\n",
      "<tf.Variable 'logits/kernel/Adam:0' shape=(128, 10) dtype=float32_ref>\n",
      "<tf.Variable 'logits/kernel/Adam_1:0' shape=(128, 10) dtype=float32_ref>\n",
      "<tf.Variable 'logits/bias/Adam:0' shape=(10,) dtype=float32_ref>\n",
      "<tf.Variable 'logits/bias/Adam_1:0' shape=(10,) dtype=float32_ref>\n",
      "<tf.Variable 'rnn/multi_rnn_cell/cell_0/lstm_cell/kernel:0' shape=(156, 512) dtype=float32_ref>\n",
      "<tf.Variable 'rnn/multi_rnn_cell/cell_0/lstm_cell/bias:0' shape=(512,) dtype=float32_ref>\n",
      "<tf.Variable 'logits/kernel:0' shape=(128, 10) dtype=float32_ref>\n",
      "<tf.Variable 'logits/bias:0' shape=(10,) dtype=float32_ref>\n",
      "<tf.Variable 'LSTM/Train/beta1_power:0' shape=() dtype=float32_ref>\n",
      "<tf.Variable 'LSTM/Train/beta2_power:0' shape=() dtype=float32_ref>\n",
      "<tf.Variable 'rnn/multi_rnn_cell/cell_0/lstm_cell/kernel/Adam:0' shape=(156, 512) dtype=float32_ref>\n",
      "<tf.Variable 'rnn/multi_rnn_cell/cell_0/lstm_cell/kernel/Adam_1:0' shape=(156, 512) dtype=float32_ref>\n",
      "<tf.Variable 'rnn/multi_rnn_cell/cell_0/lstm_cell/bias/Adam:0' shape=(512,) dtype=float32_ref>\n",
      "<tf.Variable 'rnn/multi_rnn_cell/cell_0/lstm_cell/bias/Adam_1:0' shape=(512,) dtype=float32_ref>\n",
      "<tf.Variable 'logits/kernel/Adam:0' shape=(128, 10) dtype=float32_ref>\n",
      "<tf.Variable 'logits/kernel/Adam_1:0' shape=(128, 10) dtype=float32_ref>\n",
      "<tf.Variable 'logits/bias/Adam:0' shape=(10,) dtype=float32_ref>\n",
      "<tf.Variable 'logits/bias/Adam_1:0' shape=(10,) dtype=float32_ref>\n",
      "----------------------------------------------------\n",
      "<tf.Variable 'rnn/multi_rnn_cell/cell_0/lstm_cell/kernel:0' shape=(156, 512) dtype=float32_ref>\n",
      "<tf.Variable 'rnn/multi_rnn_cell/cell_0/lstm_cell/bias:0' shape=(512,) dtype=float32_ref>\n",
      "<tf.Variable 'logits/kernel:0' shape=(128, 10) dtype=float32_ref>\n",
      "<tf.Variable 'logits/bias:0' shape=(10,) dtype=float32_ref>\n",
      "<tf.Variable 'rnn/multi_rnn_cell/cell_0/lstm_cell/kernel:0' shape=(156, 512) dtype=float32_ref>\n",
      "<tf.Variable 'rnn/multi_rnn_cell/cell_0/lstm_cell/bias:0' shape=(512,) dtype=float32_ref>\n",
      "<tf.Variable 'logits/kernel:0' shape=(128, 10) dtype=float32_ref>\n",
      "<tf.Variable 'logits/bias:0' shape=(10,) dtype=float32_ref>\n"
     ]
    }
   ],
   "source": [
    "with tf.Session() as sess:\n",
    "    new_saver = tf.train.import_meta_graph('tf_logs/logreg-run-20181023152614/my_deep_model.ckpt.meta')\n",
    "    new_saver.restore(sess, tf.train.latest_checkpoint('./tf_logs/logreg-run-20181023152614/'))\n",
    "    print(\"Restored Operations from MetaGraph:\")\n",
    "    print(tf.get_default_graph().get_all_collection_keys())\n",
    "    for v1 in tf.get_default_graph().get_collection(tf.GraphKeys.GLOBAL_VARIABLES):\n",
    "        print(v1)\n",
    "    print('----------------------------------------------------')\n",
    "    for v2 in tf.get_default_graph().get_collection(tf.GraphKeys.TRAINABLE_VARIABLES):\n",
    "        print(v2)"
   ]
  },
  {
   "cell_type": "code",
   "execution_count": null,
   "metadata": {},
   "outputs": [],
   "source": []
  }
 ],
 "metadata": {
  "kernelspec": {
   "display_name": "Python 3",
   "language": "python",
   "name": "python3"
  },
  "language_info": {
   "codemirror_mode": {
    "name": "ipython",
    "version": 3
   },
   "file_extension": ".py",
   "mimetype": "text/x-python",
   "name": "python",
   "nbconvert_exporter": "python",
   "pygments_lexer": "ipython3",
   "version": "3.5.2"
  }
 },
 "nbformat": 4,
 "nbformat_minor": 2
}
