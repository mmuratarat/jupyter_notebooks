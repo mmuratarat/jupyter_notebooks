{
 "cells": [
  {
   "cell_type": "code",
   "execution_count": 1,
   "metadata": {},
   "outputs": [
    {
     "name": "stderr",
     "output_type": "stream",
     "text": [
      "/anaconda3/lib/python3.6/site-packages/h5py/__init__.py:36: FutureWarning: Conversion of the second argument of issubdtype from `float` to `np.floating` is deprecated. In future, it will be treated as `np.float64 == np.dtype(float).type`.\n",
      "  from ._conv import register_converters as _register_converters\n"
     ]
    }
   ],
   "source": [
    "%matplotlib inline\n",
    "\n",
    "import numpy as np\n",
    "import tensorflow as tf\n",
    "from tensorflow.examples.tutorials.mnist import input_data\n",
    "from tensorflow.contrib.layers import variance_scaling_initializer\n",
    "\n",
    "import seaborn as sns\n",
    "import matplotlib.pyplot as plt"
   ]
  },
  {
   "cell_type": "code",
   "execution_count": 2,
   "metadata": {},
   "outputs": [],
   "source": [
    "#We use the recommended He normal initialization together with ReLU activation functions.\n",
    "def weight_variable(name, shape):\n",
    "    he_normal = variance_scaling_initializer(factor=2.0, mode='FAN_IN', uniform=False,\n",
    "                                             seed=None, dtype=tf.float32) \n",
    "    return tf.get_variable(name, shape=shape, initializer=he_normal)\n",
    "\n",
    "def bias_variable(shape):\n",
    "    initial = tf.constant(0.1, shape=shape)\n",
    "    return tf.Variable(initial)\n",
    "\n",
    "def conv2d(x, W):\n",
    "    return tf.nn.conv2d(x, W, strides=[1,1,1,1], padding='SAME')\n",
    "\n",
    "def max_pool_2x2(x):\n",
    "    return tf.nn.max_pool(x, ksize=[1,2,2,1], strides=[1,2,2,1], padding='SAME')"
   ]
  },
  {
   "cell_type": "code",
   "execution_count": 4,
   "metadata": {},
   "outputs": [
    {
     "name": "stdout",
     "output_type": "stream",
     "text": [
      "Extracting ./MNIST_data/train-images-idx3-ubyte.gz\n",
      "Extracting ./MNIST_data/train-labels-idx1-ubyte.gz\n",
      "Successfully downloaded t10k-images-idx3-ubyte.gz 1648877 bytes.\n",
      "Extracting ./MNIST_data/t10k-images-idx3-ubyte.gz\n",
      "Successfully downloaded t10k-labels-idx1-ubyte.gz 4542 bytes.\n",
      "Extracting ./MNIST_data/t10k-labels-idx1-ubyte.gz\n",
      "WARNING:tensorflow:From /anaconda3/lib/python3.6/site-packages/tensorflow/contrib/learn/python/learn/datasets/mnist.py:290: DataSet.__init__ (from tensorflow.contrib.learn.python.learn.datasets.mnist) is deprecated and will be removed in a future version.\n",
      "Instructions for updating:\n",
      "Please use alternatives such as official/mnist/dataset.py from tensorflow/models.\n"
     ]
    }
   ],
   "source": [
    "#dataset\n",
    "mnist = input_data.read_data_sets(\"./MNIST_data/\", one_hot=True)\n",
    "\n",
    "#parameters\n",
    "learning_rate = 0.001\n",
    "training_epochs = 1000\n",
    "batch_size = 50\n",
    "display_step = 100"
   ]
  },
  {
   "cell_type": "code",
   "execution_count": 5,
   "metadata": {},
   "outputs": [
    {
     "name": "stdout",
     "output_type": "stream",
     "text": [
      "WARNING:tensorflow:From <ipython-input-5-e1ccbaa8b4c6>:32: softmax_cross_entropy_with_logits (from tensorflow.python.ops.nn_ops) is deprecated and will be removed in a future version.\n",
      "Instructions for updating:\n",
      "\n",
      "Future major versions of TensorFlow will allow gradients to flow\n",
      "into the labels input on backprop by default.\n",
      "\n",
      "See @{tf.nn.softmax_cross_entropy_with_logits_v2}.\n",
      "\n"
     ]
    }
   ],
   "source": [
    "x = tf.placeholder(tf.float32, [None, 784])\n",
    "y_= tf.placeholder(tf.float32, [None, 10])\n",
    "x_image = tf.reshape(x, [-1,28,28,1])\n",
    "\n",
    "#layer 1\n",
    "W_conv1 = weight_variable(\"W1\", [5,5,1,32])\n",
    "b_conv1 = bias_variable([32])\n",
    "h_conv1 = tf.nn.relu(conv2d(x_image, W_conv1) + b_conv1)\n",
    "h_pool1 = max_pool_2x2(h_conv1)\n",
    "\n",
    "#layer 2\n",
    "W_conv2 = weight_variable(\"W2\", [5,5,32,64])\n",
    "b_conv2 = bias_variable([64])\n",
    "h_conv2 = tf.nn.relu(conv2d(h_pool1, W_conv2) + b_conv2)\n",
    "h_pool2 = max_pool_2x2(h_conv2)\n",
    "\n",
    "#layer 3\n",
    "W_fc1 = weight_variable(\"W3\", [7*7*64, 1024])\n",
    "b_fc1 = bias_variable([1024])\n",
    "h_pool2_flat = tf.reshape(h_pool2, [-1,7*7*64])\n",
    "h_fc1 = tf.nn.relu(tf.matmul(h_pool2_flat, W_fc1) + b_fc1)\n",
    "\n",
    "#dropout\n",
    "keep_prob = tf.placeholder(tf.float32)\n",
    "h_fc1_drop = tf.nn.dropout(h_fc1, keep_prob)\n",
    "\n",
    "#layer 5\n",
    "W_fc2 = weight_variable(\"W5\", [1024, 10])\n",
    "b_fc2 = bias_variable([10])\n",
    "y_conv = tf.matmul(h_fc1_drop, W_fc2) + b_fc2\n",
    "\n",
    "cross_entropy = tf.reduce_mean(tf.nn.softmax_cross_entropy_with_logits(labels=y_, logits=y_conv))"
   ]
  },
  {
   "cell_type": "code",
   "execution_count": 7,
   "metadata": {},
   "outputs": [],
   "source": [
    "#optimizers\n",
    "train_step1 = tf.train.GradientDescentOptimizer(learning_rate).minimize(cross_entropy)\n",
    "train_step2 = tf.train.MomentumOptimizer(learning_rate, momentum=0.9, use_nesterov=True).minimize(cross_entropy)\n",
    "train_step3 = tf.train.RMSPropOptimizer(learning_rate).minimize(cross_entropy)\n",
    "train_step4 = tf.train.AdamOptimizer(learning_rate).minimize(cross_entropy)"
   ]
  },
  {
   "cell_type": "code",
   "execution_count": 8,
   "metadata": {},
   "outputs": [],
   "source": [
    "correct_prediction = tf.equal(tf.argmax(y_conv,1), tf.argmax(y_,1))\n",
    "accuracy = tf.reduce_mean(tf.cast(correct_prediction, tf.float32))\n",
    "\n",
    "init = tf.global_variables_initializer()"
   ]
  },
  {
   "cell_type": "markdown",
   "metadata": {},
   "source": [
    "Let's evaluate each optimizer one by one:"
   ]
  },
  {
   "cell_type": "code",
   "execution_count": 10,
   "metadata": {},
   "outputs": [
    {
     "name": "stdout",
     "output_type": "stream",
     "text": [
      "training with SGD optimizer...\n",
      "Epoch 0000, training accuracy 0.12\n",
      "Epoch 0100, training accuracy 0.76\n",
      "Epoch 0200, training accuracy 0.74\n",
      "Epoch 0300, training accuracy 0.78\n",
      "Epoch 0400, training accuracy 0.88\n",
      "Epoch 0500, training accuracy 0.92\n",
      "Epoch 0600, training accuracy 0.84\n",
      "Epoch 0700, training accuracy 0.86\n",
      "Epoch 0800, training accuracy 0.84\n",
      "Epoch 0900, training accuracy 0.90\n",
      "test accuracy 0.9113\n"
     ]
    }
   ],
   "source": [
    "with tf.Session() as sess1:\n",
    "    sess1.run(init)\n",
    "\n",
    "    print(\"training with SGD optimizer...\")\n",
    "    avg_loss_sgd = np.zeros(training_epochs)\n",
    "    for epoch in range(training_epochs):\n",
    "        batch_xs, batch_ys = mnist.train.next_batch(batch_size)\n",
    "\n",
    "        _, loss = sess1.run([train_step1, cross_entropy], \n",
    "                            feed_dict={x: batch_xs, y_: batch_ys, keep_prob: 0.5})\n",
    "        avg_loss_sgd[epoch] = loss\n",
    "\n",
    "        if epoch % display_step == 0:\n",
    "            train_accuracy = accuracy.eval(feed_dict={x:batch_xs, y_:batch_ys, keep_prob: 1.0})\n",
    "            print(\"Epoch %04d, training accuracy %.2f\"%(epoch, train_accuracy))\n",
    "    #end for\n",
    "    print(\"test accuracy %g\" %accuracy.eval(feed_dict={x: mnist.test.images, y_: mnist.test.labels, keep_prob: 1.0}))"
   ]
  },
  {
   "cell_type": "code",
   "execution_count": 11,
   "metadata": {},
   "outputs": [
    {
     "name": "stdout",
     "output_type": "stream",
     "text": [
      "training with momentum optimizer...\n",
      "Epoch 0000, training accuracy 0.26\n",
      "Epoch 0100, training accuracy 0.90\n",
      "Epoch 0200, training accuracy 0.92\n",
      "Epoch 0300, training accuracy 1.00\n",
      "Epoch 0400, training accuracy 0.98\n",
      "Epoch 0500, training accuracy 0.90\n",
      "Epoch 0600, training accuracy 0.96\n",
      "Epoch 0700, training accuracy 0.96\n",
      "Epoch 0800, training accuracy 0.96\n",
      "Epoch 0900, training accuracy 0.94\n",
      "test accuracy 0.9647\n"
     ]
    }
   ],
   "source": [
    "with tf.Session() as sess2:\n",
    "    sess2.run(init)\n",
    "\n",
    "    print(\"training with momentum optimizer...\")\n",
    "    avg_loss_momentum = np.zeros(training_epochs)\n",
    "    for epoch in range(training_epochs):\n",
    "        batch_xs, batch_ys = mnist.train.next_batch(batch_size)\n",
    "\n",
    "        _, loss = sess2.run([train_step2, cross_entropy], \n",
    "                            feed_dict={x: batch_xs, y_: batch_ys, keep_prob: 0.5})\n",
    "        avg_loss_momentum[epoch] = loss\n",
    "\n",
    "        if epoch % display_step == 0:\n",
    "            train_accuracy = accuracy.eval(feed_dict={x:batch_xs, y_:batch_ys, keep_prob: 1.0})\n",
    "            print(\"Epoch %04d, training accuracy %.2f\"%(epoch, train_accuracy))\n",
    "    #end for\n",
    "    print(\"test accuracy %g\" %accuracy.eval(feed_dict={x: mnist.test.images, y_: mnist.test.labels, keep_prob: 1.0}))\n"
   ]
  },
  {
   "cell_type": "code",
   "execution_count": 12,
   "metadata": {},
   "outputs": [
    {
     "name": "stdout",
     "output_type": "stream",
     "text": [
      "training with RMSProp optimizer...\n",
      "Epoch 0000, training accuracy 0.08\n",
      "Epoch 0100, training accuracy 0.96\n",
      "Epoch 0200, training accuracy 1.00\n",
      "Epoch 0300, training accuracy 1.00\n",
      "Epoch 0400, training accuracy 1.00\n",
      "Epoch 0500, training accuracy 1.00\n",
      "Epoch 0600, training accuracy 1.00\n",
      "Epoch 0700, training accuracy 1.00\n",
      "Epoch 0800, training accuracy 1.00\n",
      "Epoch 0900, training accuracy 1.00\n",
      "test accuracy 0.9787\n"
     ]
    }
   ],
   "source": [
    "with tf.Session() as sess3:\n",
    "    sess3.run(init)\n",
    "\n",
    "    print(\"training with RMSProp optimizer...\")\n",
    "    avg_loss_rmsprop = np.zeros(training_epochs)\n",
    "    for epoch in range(training_epochs):\n",
    "        batch_xs, batch_ys = mnist.train.next_batch(batch_size)\n",
    "\n",
    "        _, loss = sess3.run([train_step3, cross_entropy], \n",
    "                            feed_dict={x: batch_xs, y_: batch_ys, keep_prob: 0.5})\n",
    "        avg_loss_rmsprop[epoch] = loss\n",
    "\n",
    "        if epoch % display_step == 0:\n",
    "            train_accuracy = accuracy.eval(feed_dict={x:batch_xs, y_:batch_ys, keep_prob: 1.0})\n",
    "            print(\"Epoch %04d, training accuracy %.2f\"%(epoch, train_accuracy))\n",
    "    #end for\n",
    "    print(\"test accuracy %g\" %accuracy.eval(feed_dict={x: mnist.test.images, y_: mnist.test.labels, keep_prob: 1.0}))"
   ]
  },
  {
   "cell_type": "code",
   "execution_count": 13,
   "metadata": {},
   "outputs": [
    {
     "name": "stdout",
     "output_type": "stream",
     "text": [
      "training with Adam optimizer...\n",
      "Epoch 0000, training accuracy 0.14\n",
      "Epoch 0100, training accuracy 0.94\n",
      "Epoch 0200, training accuracy 0.96\n",
      "Epoch 0300, training accuracy 1.00\n",
      "Epoch 0400, training accuracy 1.00\n",
      "Epoch 0500, training accuracy 1.00\n",
      "Epoch 0600, training accuracy 1.00\n",
      "Epoch 0700, training accuracy 0.98\n",
      "Epoch 0800, training accuracy 1.00\n",
      "Epoch 0900, training accuracy 0.98\n",
      "test accuracy 0.9815\n"
     ]
    }
   ],
   "source": [
    "with tf.Session() as sess4:\n",
    "    sess4.run(init)\n",
    "\n",
    "    print(\"training with Adam optimizer...\")\n",
    "    avg_loss_adam = np.zeros(training_epochs)\n",
    "    for epoch in range(training_epochs):\n",
    "        batch_xs, batch_ys = mnist.train.next_batch(batch_size)\n",
    "\n",
    "        _, loss = sess4.run([train_step4, cross_entropy], \n",
    "                            feed_dict={x: batch_xs, y_: batch_ys, keep_prob: 0.5})\n",
    "        avg_loss_adam[epoch] = loss\n",
    "\n",
    "        if epoch % display_step == 0:\n",
    "            train_accuracy = accuracy.eval(feed_dict={x:batch_xs, y_:batch_ys, keep_prob: 1.0})\n",
    "            print(\"Epoch %04d, training accuracy %.2f\"%(epoch, train_accuracy))\n",
    "    #end for\n",
    "    print(\"test accuracy %g\" %accuracy.eval(feed_dict={x: mnist.test.images, y_: mnist.test.labels, keep_prob: 1.0}))"
   ]
  },
  {
   "cell_type": "code",
   "execution_count": 14,
   "metadata": {},
   "outputs": [
    {
     "data": {
      "image/png": "[encoded data removed]",
      "text/plain": [
       "<Figure size 432x288 with 1 Axes>"
      ]
     },
     "metadata": {},
     "output_type": "display_data"
    }
   ],
   "source": [
    "#We can visualize the loss for each optimizer below:\n",
    "plt.figure()\n",
    "plt.plot(avg_loss_sgd, color='blue', alpha=0.8, label='SGD')\n",
    "plt.plot(avg_loss_momentum, color='red', alpha=0.8, label='Momentum')\n",
    "plt.plot(avg_loss_rmsprop, color='green', alpha=0.8, label='RMSProp')\n",
    "plt.plot(avg_loss_adam, color='black', alpha=0.8, label='Adam')\n",
    "plt.title(\"Neural Network Optimizers\")\n",
    "plt.xlabel(\"Epochs\")\n",
    "plt.ylabel(\"Loss\")\n",
    "plt.legend()\n",
    "plt.show()"
   ]
  },
  {
   "cell_type": "code",
   "execution_count": null,
   "metadata": {},
   "outputs": [],
   "source": []
  }
 ],
 "metadata": {
  "kernelspec": {
   "display_name": "Python 3",
   "language": "python",
   "name": "python3"
  },
  "language_info": {
   "codemirror_mode": {
    "name": "ipython",
    "version": 3
   },
   "file_extension": ".py",
   "mimetype": "text/x-python",
   "name": "python",
   "nbconvert_exporter": "python",
   "pygments_lexer": "ipython3",
   "version": "3.6.5"
  }
 },
 "nbformat": 4,
 "nbformat_minor": 2
}
