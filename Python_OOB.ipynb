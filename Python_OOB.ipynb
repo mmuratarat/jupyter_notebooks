{
 "cells": [
  {
   "cell_type": "markdown",
   "metadata": {},
   "source": [
    "# Instance Attributes\n",
    "\n",
    "All classes create objects, and all objects contain characteristics called attributes (referred to as properties in the opening paragraph). Use the __init__() method to initialize (e.g., specify) an object’s initial attributes by giving them their default value (or state). This method must have at least one argument as well as the self variable, which refers to the object itself (e.g., Dog)."
   ]
  },
  {
   "cell_type": "code",
   "execution_count": null,
   "metadata": {},
   "outputs": [],
   "source": [
    "class Dog:\n",
    "\n",
    "    # Initializer / Instance Attributes\n",
    "    def __init__(self, name, age):\n",
    "        self.name = name\n",
    "        self.age = age"
   ]
  },
  {
   "cell_type": "markdown",
   "metadata": {},
   "source": [
    "In the case of our Dog() class, each dog has a specific name and age, which is obviously important to know for when you start actually creating different dogs. Remember: the class is just for defining the Dog, not actually creating instances of individual dogs with specific names and ages; we’ll get to that shortly.\n",
    "\n",
    "Similarly, the self variable is also an instance of the class. Since instances of a class have varying values we could state Dog.name = name rather than self.name = name. But since not all dogs share the same name, we need to be able to assign different values to different instances. Hence the need for the special self variable, which will help to keep track of individual instances of each class.\n",
    "\n",
    "NOTE: You will never have to call the \\__init__() method; it gets called automatically when you create a new ‘Dog’ instance."
   ]
  },
  {
   "cell_type": "markdown",
   "metadata": {},
   "source": [
    "# Class Attributes\n",
    "While instance attributes are specific to each object, class attributes are the same for all instances—which in this case is all dogs."
   ]
  },
  {
   "cell_type": "code",
   "execution_count": null,
   "metadata": {},
   "outputs": [],
   "source": [
    "class Dog:\n",
    "\n",
    "    # Class Attribute\n",
    "    species = 'mammal'\n",
    "\n",
    "    # Initializer / Instance Attributes\n",
    "    def __init__(self, name, age):\n",
    "        self.name = name\n",
    "        self.age = age"
   ]
  },
  {
   "cell_type": "markdown",
   "metadata": {},
   "source": [
    "So while each dog has a unique name and age, every dog will be a mammal."
   ]
  },
  {
   "cell_type": "markdown",
   "metadata": {},
   "source": [
    "# Docstring of a Class"
   ]
  },
  {
   "cell_type": "code",
   "execution_count": null,
   "metadata": {},
   "outputs": [],
   "source": [
    "class MyNewClass:\n",
    "    '''This is a docstring. I have created a new class'''\n",
    "    pass"
   ]
  },
  {
   "cell_type": "code",
   "execution_count": null,
   "metadata": {},
   "outputs": [],
   "source": [
    "print(MyNewClass.__doc__)"
   ]
  },
  {
   "cell_type": "markdown",
   "metadata": {},
   "source": [
    "# Class Method / Instance Method / Static Method\n",
    "\n",
    "* an instance method knows its instance (and from that, its class)\n",
    "\n",
    "* a class method knows its class\n",
    "\n",
    "* a static method doesn't know its class or instance\n"
   ]
  },
  {
   "cell_type": "markdown",
   "metadata": {},
   "source": [
    "# Class methods\n",
    " class method is one that belongs to the class as a whole. It doesn't require an instance. Instead, the class will automatically be sent as the first argument. A class method is declared with the @classmethod decorator.\n",
    " \n",
    "when this method is called, we pass the class as the first argument instead of the instance of that class (as we normally do with methods). This means you can use the class and its properties inside that method rather than a particular instance."
   ]
  },
  {
   "cell_type": "code",
   "execution_count": null,
   "metadata": {},
   "outputs": [],
   "source": [
    "class Foo(object):\n",
    "    @classmethod\n",
    "    def hello(cls):\n",
    "        print(\"hello from %s\" % cls.__name__)"
   ]
  },
  {
   "cell_type": "code",
   "execution_count": null,
   "metadata": {},
   "outputs": [],
   "source": [
    "Foo().hello()\n",
    "#hello from Foo\n",
    "\n",
    "#or \n",
    "\n",
    "Foo.hello()\n",
    "#hello from Foo"
   ]
  },
  {
   "cell_type": "code",
   "execution_count": null,
   "metadata": {},
   "outputs": [],
   "source": [
    "#What's below will print the same \n",
    "func1 = Foo()\n",
    "func1.hello()\n",
    "\n",
    "#hello from Foo"
   ]
  },
  {
   "cell_type": "markdown",
   "metadata": {},
   "source": [
    "# Instance Methods\n",
    "\n",
    "On the other hand, an instance method requires an instance in order to call it, and requires no decorator. This is by far the most common type of method"
   ]
  },
  {
   "cell_type": "code",
   "execution_count": null,
   "metadata": {},
   "outputs": [],
   "source": [
    "class Foo(object):\n",
    "    def hello(self):\n",
    "        print(\"hello from %s\" % self.__class__.__name__)"
   ]
  },
  {
   "cell_type": "code",
   "execution_count": null,
   "metadata": {},
   "outputs": [],
   "source": [
    "Foo.hello()\n",
    "#TypeError: hello() missing 1 required positional argument: 'self'\n",
    "\n",
    "#or\n",
    "\n",
    "Foo().hello()\n",
    "#TypeError: hello() missing 1 required positional argument: 'self'"
   ]
  },
  {
   "cell_type": "code",
   "execution_count": null,
   "metadata": {},
   "outputs": [],
   "source": [
    "#What's below will work because func1 is an instance (object) instantiated from class Foo()\n",
    "func1 = Foo() \n",
    "func1.hello()\n",
    "#hello from Foo"
   ]
  },
  {
   "cell_type": "markdown",
   "metadata": {},
   "source": [
    "# Static methods\n",
    "A static method is similar to a class method, but won't get the class object as an automatic parameter. It is created by using the @staticmethod decorator.\n",
    "\n",
    "when this method is called, we don't pass an instance of the class to it (as we normally do with methods). This means you can put a function inside a class but you can't access the instance of that class (this is useful when your method does not use the instance)."
   ]
  },
  {
   "cell_type": "code",
   "execution_count": null,
   "metadata": {},
   "outputs": [],
   "source": [
    "class Foo(object):\n",
    "    @staticmethod\n",
    "    def hello(cls):\n",
    "        print(\"hello from %s\" % cls.__name__)"
   ]
  },
  {
   "cell_type": "code",
   "execution_count": null,
   "metadata": {},
   "outputs": [],
   "source": [
    "Foo.hello()\n",
    "#TypeError: hello() missing 1 required positional argument: 'cls'"
   ]
  },
  {
   "cell_type": "code",
   "execution_count": null,
   "metadata": {},
   "outputs": [],
   "source": [
    "Foo().hello()\n",
    "#TypeError: hello() missing 1 required positional argument: 'cls'"
   ]
  },
  {
   "cell_type": "code",
   "execution_count": null,
   "metadata": {},
   "outputs": [],
   "source": [
    "func1 = Foo()\n",
    "func1.hello(Foo)\n",
    "#hello from Foo\n",
    "\n",
    "#OR\n",
    "\n",
    "Foo.hello(Foo)\n",
    "#hello from Foo"
   ]
  },
  {
   "cell_type": "markdown",
   "metadata": {},
   "source": [
    "## What is the difference between @staticmethod and @classmethod?\n",
    "\n",
    "**Similarity**: Both of them can be called on the Class itself, rather than just the instance of the class. So, both of them in a sense are Class's methods.\n",
    "\n",
    "**Difference**: A classmethod will receive the class itself as the first argument, while a staticmethod does not."
   ]
  },
  {
   "cell_type": "markdown",
   "metadata": {},
   "source": [
    "Maybe a bit of example code will help: Notice the difference in the call signatures of `foo`, `class_foo` and `static_foo`:\n",
    "\n",
    "    class A(object):\n",
    "        def foo(self,x):\n",
    "            print \"executing foo(%s,%s)\"%(self,x)\n",
    "    \n",
    "        @classmethod\n",
    "        def class_foo(cls,x):\n",
    "            print \"executing class_foo(%s,%s)\"%(cls,x)\n",
    "    \n",
    "        @staticmethod\n",
    "        def static_foo(x):\n",
    "            print \"executing static_foo(%s)\"%x    \n",
    "    \n",
    "    a=A()\n",
    "    \n",
    "Below is the usual way an object instance calls a method. The object instance, `a`, is implicitly passed as the first argument.\n",
    "    \n",
    "    a.foo(1)\n",
    "    # executing foo(<__main__.A object at 0xb7dbef0c>,1)\n",
    "\n",
    "\n",
    "----------\n",
    "\n",
    "\n",
    "    \n",
    "**With classmethods**, the class of the object instance is implicitly passed as the first argument instead of `self`.\n",
    "    \n",
    "    a.class_foo(1)\n",
    "    # executing class_foo(<class '__main__.A'>,1)\n",
    "    \n",
    "You can also call `class_foo` using the class. In fact, if you define something to be\n",
    "a classmethod, it is probably because you intend to call it from the class rather than from a class instance. `A.foo(1)` would have raised a TypeError, but `A.class_foo(1)` works just fine:\n",
    "        \n",
    "    A.class_foo(1)\n",
    "    # executing class_foo(<class '__main__.A'>,1)\n",
    " \n",
    "One use people have found for class methods is to create [inheritable alternative constructors](https://stackoverflow.com/a/1950927/190597).\n",
    "\n",
    "\n",
    "----------\n",
    "\n",
    "\n",
    "**With staticmethods**, neither `self` (the object instance) nor  `cls` (the class) is implicitly passed as the first argument. They behave like plain functions except that you can call them from an instance or the class:\n",
    "    \n",
    "    a.static_foo(1)\n",
    "    # executing static_foo(1)\n",
    "\n",
    "    A.static_foo('hi')\n",
    "    # executing static_foo(hi)\n",
    "\n",
    "Staticmethods are used to group functions which have some logical connection with a class to the class.\n",
    "\n",
    "----------\n",
    "\n",
    "\n",
    "`foo` is just a function, but when you call `a.foo` you don't just get the function,\n",
    "you get a \"partially applied\" version of the function with the object instance `a` bound as the first argument to the function. `foo` expects 2 arguments, while `a.foo` only expects 1 argument.\n",
    "\n",
    "`a` is bound to `foo`. That is what is meant by the term \"bound\" below:\n",
    "\n",
    "    print(a.foo)\n",
    "    # <bound method A.foo of <__main__.A object at 0xb7d52f0c>>\n",
    "\n",
    "With `a.class_foo`, `a` is not bound to `class_foo`, rather the class `A` is bound to `class_foo`.\n",
    "\n",
    "    print(a.class_foo)\n",
    "    # <bound method type.class_foo of <class '__main__.A'>>\n",
    "\n",
    "Here, with a staticmethod, even though it is a method, `a.static_foo` just returns\n",
    "a good 'ole function with no arguments bound. `static_foo` expects 1 argument, and\n",
    "`a.static_foo` expects 1 argument too.\n",
    "\n",
    "    print(a.static_foo)\n",
    "    # <function static_foo at 0xb7d479cc>\n",
    "\n",
    "And of course the same thing happens when you call `static_foo` with the class `A` instead.\n",
    "\n",
    "    print(A.static_foo)\n",
    "    # <function static_foo at 0xb7d479cc>\n",
    "\n",
    "\n",
    "  [1]: http://www.python.org/download/releases/2.2/descrintro/#metaclasses"
   ]
  }
 ],
 "metadata": {
  "kernelspec": {
   "display_name": "Python 3",
   "language": "python",
   "name": "python3"
  },
  "language_info": {
   "codemirror_mode": {
    "name": "ipython",
    "version": 3
   },
   "file_extension": ".py",
   "mimetype": "text/x-python",
   "name": "python",
   "nbconvert_exporter": "python",
   "pygments_lexer": "ipython3",
   "version": "3.6.5"
  }
 },
 "nbformat": 4,
 "nbformat_minor": 2
}
